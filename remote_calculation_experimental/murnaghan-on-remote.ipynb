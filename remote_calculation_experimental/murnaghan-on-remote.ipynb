{
 "cells": [
  {
   "cell_type": "markdown",
   "metadata": {},
   "source": [
    "Remote config:"
   ]
  },
  {
   "cell_type": "raw",
   "metadata": {
    "ExecuteTime": {
     "end_time": "2019-09-10T14:11:58.443763Z",
     "start_time": "2019-09-10T14:11:58.435653Z"
    }
   },
   "source": [
    "[DEFAULT]\n",
    "TOP_LEVEL_DIRS = /cmmc/u\n",
    "RESOURCE_PATHS = /u/janj/pyiron/resources, /u/system/SLES12/soft/pyiron/dev/pyiron-resources-cmmc\n",
    "PROJECT_CHECK_ENABLED = False\n",
    "DISABLE_DATABASE = True"
   ]
  },
  {
   "cell_type": "markdown",
   "metadata": {},
   "source": [
    "Local config:"
   ]
  },
  {
   "cell_type": "raw",
   "metadata": {},
   "source": [
    "[DEFAULT]  \n",
    "TOP_LEVEL_DIRS = /Users/jan/PycharmProjects/pyiron_mpie, /Users/jan/pyiron/projects,\n",
    "RESOURCE_PATHS = /Users/jan/pyiron/resources\n",
    "PROJECT_CHECK_ENABLED = False\n",
    "DISABLE_DATABASE = True"
   ]
  },
  {
   "cell_type": "markdown",
   "metadata": {},
   "source": [
    "Local queue config:"
   ]
  },
  {
   "cell_type": "raw",
   "metadata": {},
   "source": [
    "queue_type: REMOTE\n",
    "queue_primary: impi_hy\n",
    "ssh_host: cmmc001.bc.rzg.mpg.de\n",
    "ssh_username: janj\n",
    "known_hosts: ~/.ssh/known_hosts\n",
    "ssh_key: ~/.ssh/id_rsa\n",
    "ssh_remote_config_dir: /u/system/SLES12/soft/pyiron/dev/pyiron-resources-cmmc/queues/\n",
    "ssh_remote_path: /u/janj/\n",
    "ssh_local_path: /Users/jan/pyiron/projects/\n",
    "ssh_continous_connection: True\n",
    "queues:\n",
    "  impi_hy: {cores_max: 1280, cores_min: 1, run_time_max: 259200}\n",
    "  impi_hydra: {cores_max: 4240, cores_min: 20, run_time_max: 259200}\n",
    "  impi_hydra_cmfe: {cores_max: 1280, cores_min: 40, run_time_max: 259200}\n",
    "  impi_hydra_small: {cores_max: 40, cores_min: 1, run_time_max: 604800}\n",
    "  impi_express_serial: {cores_max: 1, cores_min: 1, run_time_max: 300}\n",
    "  impi_express_parallel: {cores_max: 8, cores_min: 1, run_time_max: 1200}"
   ]
  },
  {
   "cell_type": "code",
   "execution_count": 1,
   "metadata": {
    "ExecuteTime": {
     "end_time": "2019-09-11T08:37:00.574299Z",
     "start_time": "2019-09-11T08:36:58.318064Z"
    }
   },
   "outputs": [],
   "source": [
    "from pyiron import Project"
   ]
  },
  {
   "cell_type": "code",
   "execution_count": 2,
   "metadata": {
    "ExecuteTime": {
     "end_time": "2019-09-11T08:37:00.949747Z",
     "start_time": "2019-09-11T08:37:00.577019Z"
    }
   },
   "outputs": [],
   "source": [
    "pr = Project('.')"
   ]
  },
  {
   "cell_type": "code",
   "execution_count": 3,
   "metadata": {
    "ExecuteTime": {
     "end_time": "2019-09-11T08:37:00.972114Z",
     "start_time": "2019-09-11T08:37:00.952220Z"
    }
   },
   "outputs": [
    {
     "data": {
      "text/html": [
       "<div>\n",
       "<style scoped>\n",
       "    .dataframe tbody tr th:only-of-type {\n",
       "        vertical-align: middle;\n",
       "    }\n",
       "\n",
       "    .dataframe tbody tr th {\n",
       "        vertical-align: top;\n",
       "    }\n",
       "\n",
       "    .dataframe thead th {\n",
       "        text-align: right;\n",
       "    }\n",
       "</style>\n",
       "<table border=\"1\" class=\"dataframe\">\n",
       "  <thead>\n",
       "    <tr style=\"text-align: right;\">\n",
       "      <th></th>\n",
       "      <th>id</th>\n",
       "      <th>status</th>\n",
       "      <th>chemicalformula</th>\n",
       "      <th>job</th>\n",
       "      <th>subjob</th>\n",
       "      <th>projectpath</th>\n",
       "      <th>project</th>\n",
       "      <th>timestart</th>\n",
       "      <th>timestop</th>\n",
       "      <th>totalcputime</th>\n",
       "      <th>computer</th>\n",
       "      <th>hamilton</th>\n",
       "      <th>hamversion</th>\n",
       "      <th>parentid</th>\n",
       "      <th>masterid</th>\n",
       "      <th>username</th>\n",
       "    </tr>\n",
       "  </thead>\n",
       "  <tbody>\n",
       "  </tbody>\n",
       "</table>\n",
       "</div>"
      ],
      "text/plain": [
       "Empty DataFrame\n",
       "Columns: [id, status, chemicalformula, job, subjob, projectpath, project, timestart, timestop, totalcputime, computer, hamilton, hamversion, parentid, masterid, username]\n",
       "Index: []"
      ]
     },
     "execution_count": 3,
     "metadata": {},
     "output_type": "execute_result"
    }
   ],
   "source": [
    "pr.job_table()"
   ]
  },
  {
   "cell_type": "code",
   "execution_count": 4,
   "metadata": {
    "ExecuteTime": {
     "end_time": "2019-09-11T08:37:00.977755Z",
     "start_time": "2019-09-11T08:37:00.974570Z"
    }
   },
   "outputs": [],
   "source": [
    "pr.remove_jobs(recursive=True)"
   ]
  },
  {
   "cell_type": "code",
   "execution_count": 5,
   "metadata": {
    "ExecuteTime": {
     "end_time": "2019-09-11T08:37:00.989170Z",
     "start_time": "2019-09-11T08:37:00.979825Z"
    }
   },
   "outputs": [
    {
     "data": {
      "text/html": [
       "<div>\n",
       "<style scoped>\n",
       "    .dataframe tbody tr th:only-of-type {\n",
       "        vertical-align: middle;\n",
       "    }\n",
       "\n",
       "    .dataframe tbody tr th {\n",
       "        vertical-align: top;\n",
       "    }\n",
       "\n",
       "    .dataframe thead th {\n",
       "        text-align: right;\n",
       "    }\n",
       "</style>\n",
       "<table border=\"1\" class=\"dataframe\">\n",
       "  <thead>\n",
       "    <tr style=\"text-align: right;\">\n",
       "      <th></th>\n",
       "      <th>id</th>\n",
       "      <th>status</th>\n",
       "      <th>chemicalformula</th>\n",
       "      <th>job</th>\n",
       "      <th>subjob</th>\n",
       "      <th>projectpath</th>\n",
       "      <th>project</th>\n",
       "      <th>timestart</th>\n",
       "      <th>timestop</th>\n",
       "      <th>totalcputime</th>\n",
       "      <th>computer</th>\n",
       "      <th>hamilton</th>\n",
       "      <th>hamversion</th>\n",
       "      <th>parentid</th>\n",
       "      <th>masterid</th>\n",
       "      <th>username</th>\n",
       "    </tr>\n",
       "  </thead>\n",
       "  <tbody>\n",
       "  </tbody>\n",
       "</table>\n",
       "</div>"
      ],
      "text/plain": [
       "Empty DataFrame\n",
       "Columns: [id, status, chemicalformula, job, subjob, projectpath, project, timestart, timestop, totalcputime, computer, hamilton, hamversion, parentid, masterid, username]\n",
       "Index: []"
      ]
     },
     "execution_count": 5,
     "metadata": {},
     "output_type": "execute_result"
    }
   ],
   "source": [
    "pr.job_table()"
   ]
  },
  {
   "cell_type": "code",
   "execution_count": 6,
   "metadata": {
    "ExecuteTime": {
     "end_time": "2019-09-11T08:37:01.008339Z",
     "start_time": "2019-09-11T08:37:00.991002Z"
    }
   },
   "outputs": [],
   "source": [
    "job = pr.create_job(pr.job_type.Lammps, 'lmp')"
   ]
  },
  {
   "cell_type": "code",
   "execution_count": 7,
   "metadata": {
    "ExecuteTime": {
     "end_time": "2019-09-11T08:37:01.024152Z",
     "start_time": "2019-09-11T08:37:01.017034Z"
    }
   },
   "outputs": [
    {
     "data": {
      "text/plain": [
       "'2019.06.05_default'"
      ]
     },
     "execution_count": 7,
     "metadata": {},
     "output_type": "execute_result"
    }
   ],
   "source": [
    "job.executable.version"
   ]
  },
  {
   "cell_type": "code",
   "execution_count": 8,
   "metadata": {
    "ExecuteTime": {
     "end_time": "2019-09-11T08:37:01.123307Z",
     "start_time": "2019-09-11T08:37:01.030004Z"
    }
   },
   "outputs": [],
   "source": [
    "job.structure = pr.create_structure('Fe', 'bcc', 2.78)"
   ]
  },
  {
   "cell_type": "code",
   "execution_count": 9,
   "metadata": {
    "ExecuteTime": {
     "end_time": "2019-09-11T08:37:01.307940Z",
     "start_time": "2019-09-11T08:37:01.125817Z"
    }
   },
   "outputs": [
    {
     "data": {
      "application/vnd.jupyter.widget-view+json": {
       "model_id": "0c8ec6834c0a4ae0b29fdd438f7f09db",
       "version_major": 2,
       "version_minor": 0
      },
      "text/plain": [
       "_ColormakerRegistry()"
      ]
     },
     "metadata": {},
     "output_type": "display_data"
    },
    {
     "data": {
      "application/vnd.jupyter.widget-view+json": {
       "model_id": "7413dfd1d265451ea5852147a83f8089",
       "version_major": 2,
       "version_minor": 0
      },
      "text/plain": [
       "NGLWidget()"
      ]
     },
     "metadata": {},
     "output_type": "display_data"
    }
   ],
   "source": [
    "job.structure.plot3d()"
   ]
  },
  {
   "cell_type": "code",
   "execution_count": 10,
   "metadata": {
    "ExecuteTime": {
     "end_time": "2019-09-11T08:37:01.325392Z",
     "start_time": "2019-09-11T08:37:01.310257Z"
    }
   },
   "outputs": [
    {
     "data": {
      "text/plain": [
       "['Fe_C_Hepburn_Ackland_eam', 'Fe_C_Becquart_eam']"
      ]
     },
     "execution_count": 10,
     "metadata": {},
     "output_type": "execute_result"
    }
   ],
   "source": [
    "job.list_potentials()"
   ]
  },
  {
   "cell_type": "code",
   "execution_count": 11,
   "metadata": {
    "ExecuteTime": {
     "end_time": "2019-09-11T08:37:01.340275Z",
     "start_time": "2019-09-11T08:37:01.328533Z"
    }
   },
   "outputs": [],
   "source": [
    "job.potential = 'Fe_C_Becquart_eam'"
   ]
  },
  {
   "cell_type": "code",
   "execution_count": 12,
   "metadata": {
    "ExecuteTime": {
     "end_time": "2019-09-11T08:37:01.436841Z",
     "start_time": "2019-09-11T08:37:01.342584Z"
    }
   },
   "outputs": [],
   "source": [
    "murn = job.create_job(pr.job_type.Murnaghan, 'murn')"
   ]
  },
  {
   "cell_type": "code",
   "execution_count": 13,
   "metadata": {
    "ExecuteTime": {
     "end_time": "2019-09-11T08:37:01.466659Z",
     "start_time": "2019-09-11T08:37:01.449228Z"
    }
   },
   "outputs": [
    {
     "data": {
      "text/html": [
       "<div>\n",
       "<style scoped>\n",
       "    .dataframe tbody tr th:only-of-type {\n",
       "        vertical-align: middle;\n",
       "    }\n",
       "\n",
       "    .dataframe tbody tr th {\n",
       "        vertical-align: top;\n",
       "    }\n",
       "\n",
       "    .dataframe thead th {\n",
       "        text-align: right;\n",
       "    }\n",
       "</style>\n",
       "<table border=\"1\" class=\"dataframe\">\n",
       "  <thead>\n",
       "    <tr style=\"text-align: right;\">\n",
       "      <th></th>\n",
       "      <th>Parameter</th>\n",
       "      <th>Value</th>\n",
       "      <th>Comment</th>\n",
       "    </tr>\n",
       "  </thead>\n",
       "  <tbody>\n",
       "    <tr>\n",
       "      <td>0</td>\n",
       "      <td>num_points</td>\n",
       "      <td>11</td>\n",
       "      <td>number of sample points</td>\n",
       "    </tr>\n",
       "    <tr>\n",
       "      <td>1</td>\n",
       "      <td>fit_type</td>\n",
       "      <td>polynomial</td>\n",
       "      <td>['polynomial', 'birch', 'birchmurnaghan', 'murnaghan', 'pouriertarantola', 'vinet']</td>\n",
       "    </tr>\n",
       "    <tr>\n",
       "      <td>2</td>\n",
       "      <td>fit_order</td>\n",
       "      <td>3</td>\n",
       "      <td>order of the fit polynom</td>\n",
       "    </tr>\n",
       "    <tr>\n",
       "      <td>3</td>\n",
       "      <td>vol_range</td>\n",
       "      <td>0.1</td>\n",
       "      <td>relative volume variation around volume defined by ref_ham</td>\n",
       "    </tr>\n",
       "  </tbody>\n",
       "</table>\n",
       "</div>"
      ],
      "text/plain": [
       "    Parameter       Value  \\\n",
       "0  num_points          11   \n",
       "1    fit_type  polynomial   \n",
       "2   fit_order           3   \n",
       "3   vol_range         0.1   \n",
       "\n",
       "                                                                               Comment  \n",
       "0                                                              number of sample points  \n",
       "1  ['polynomial', 'birch', 'birchmurnaghan', 'murnaghan', 'pouriertarantola', 'vinet']  \n",
       "2                                                             order of the fit polynom  \n",
       "3                           relative volume variation around volume defined by ref_ham  "
      ]
     },
     "execution_count": 13,
     "metadata": {},
     "output_type": "execute_result"
    }
   ],
   "source": [
    "murn.input"
   ]
  },
  {
   "cell_type": "code",
   "execution_count": 14,
   "metadata": {
    "ExecuteTime": {
     "end_time": "2019-09-11T08:37:01.476654Z",
     "start_time": "2019-09-11T08:37:01.470123Z"
    }
   },
   "outputs": [],
   "source": [
    "murn.input['num_points'] = 5"
   ]
  },
  {
   "cell_type": "code",
   "execution_count": 15,
   "metadata": {
    "ExecuteTime": {
     "end_time": "2019-09-11T08:37:01.488634Z",
     "start_time": "2019-09-11T08:37:01.479846Z"
    }
   },
   "outputs": [
    {
     "data": {
      "text/plain": [
       "['impi_hy',\n",
       " 'impi_hydra',\n",
       " 'impi_hydra_cmfe',\n",
       " 'impi_hydra_small',\n",
       " 'impi_express_serial',\n",
       " 'impi_express_parallel']"
      ]
     },
     "execution_count": 15,
     "metadata": {},
     "output_type": "execute_result"
    }
   ],
   "source": [
    "murn.server.list_queues()"
   ]
  },
  {
   "cell_type": "code",
   "execution_count": 16,
   "metadata": {
    "ExecuteTime": {
     "end_time": "2019-09-11T08:37:01.499016Z",
     "start_time": "2019-09-11T08:37:01.491643Z"
    }
   },
   "outputs": [
    {
     "name": "stdout",
     "output_type": "stream",
     "text": [
      "Updated the run time limit to:  604800\n"
     ]
    }
   ],
   "source": [
    "murn.server.queue = 'impi_hydra_small'"
   ]
  },
  {
   "cell_type": "code",
   "execution_count": 17,
   "metadata": {
    "ExecuteTime": {
     "end_time": "2019-09-11T08:37:01.509652Z",
     "start_time": "2019-09-11T08:37:01.503068Z"
    }
   },
   "outputs": [],
   "source": [
    "murn.server.cores = 5"
   ]
  },
  {
   "cell_type": "code",
   "execution_count": 18,
   "metadata": {
    "ExecuteTime": {
     "end_time": "2019-09-11T08:37:08.154486Z",
     "start_time": "2019-09-11T08:37:01.514740Z"
    }
   },
   "outputs": [
    {
     "name": "stdout",
     "output_type": "stream",
     "text": [
      "The job murn was saved and received the ID: 1\n"
     ]
    },
    {
     "name": "stderr",
     "output_type": "stream",
     "text": [
      "100%|██████████| 1/1 [00:00<00:00,  1.30it/s]\n",
      "100%|██████████| 1/1 [00:00<00:00, 13.59it/s]\n"
     ]
    },
    {
     "name": "stdout",
     "output_type": "stream",
     "text": [
      "Queue system id:  4091723\n"
     ]
    }
   ],
   "source": [
    "murn.run()"
   ]
  },
  {
   "cell_type": "code",
   "execution_count": 19,
   "metadata": {
    "ExecuteTime": {
     "end_time": "2019-09-11T08:38:10.931073Z",
     "start_time": "2019-09-11T08:37:08.157591Z"
    }
   },
   "outputs": [
    {
     "name": "stderr",
     "output_type": "stream",
     "text": [
      "100%|██████████| 15/15 [00:02<00:00,  5.91it/s]\n",
      "100%|██████████| 1/1 [00:00<00:00,  2.81it/s]\n"
     ]
    }
   ],
   "source": [
    "pr.wait_for_job(murn)"
   ]
  },
  {
   "cell_type": "code",
   "execution_count": 20,
   "metadata": {
    "ExecuteTime": {
     "end_time": "2019-09-11T08:38:10.962733Z",
     "start_time": "2019-09-11T08:38:10.933975Z"
    }
   },
   "outputs": [
    {
     "data": {
      "text/plain": [
       "'finished'"
      ]
     },
     "execution_count": 20,
     "metadata": {},
     "output_type": "execute_result"
    }
   ],
   "source": [
    "murn['status']"
   ]
  },
  {
   "cell_type": "code",
   "execution_count": 21,
   "metadata": {
    "ExecuteTime": {
     "end_time": "2019-09-11T08:38:10.989528Z",
     "start_time": "2019-09-11T08:38:10.965230Z"
    }
   },
   "outputs": [
    {
     "data": {
      "text/html": [
       "<div>\n",
       "<style scoped>\n",
       "    .dataframe tbody tr th:only-of-type {\n",
       "        vertical-align: middle;\n",
       "    }\n",
       "\n",
       "    .dataframe tbody tr th {\n",
       "        vertical-align: top;\n",
       "    }\n",
       "\n",
       "    .dataframe thead th {\n",
       "        text-align: right;\n",
       "    }\n",
       "</style>\n",
       "<table border=\"1\" class=\"dataframe\">\n",
       "  <thead>\n",
       "    <tr style=\"text-align: right;\">\n",
       "      <th></th>\n",
       "      <th>id</th>\n",
       "      <th>status</th>\n",
       "      <th>chemicalformula</th>\n",
       "      <th>job</th>\n",
       "      <th>subjob</th>\n",
       "      <th>projectpath</th>\n",
       "      <th>project</th>\n",
       "      <th>timestart</th>\n",
       "      <th>timestop</th>\n",
       "      <th>totalcputime</th>\n",
       "      <th>computer</th>\n",
       "      <th>hamilton</th>\n",
       "      <th>hamversion</th>\n",
       "      <th>parentid</th>\n",
       "      <th>masterid</th>\n",
       "      <th>username</th>\n",
       "    </tr>\n",
       "  </thead>\n",
       "  <tbody>\n",
       "    <tr>\n",
       "      <td>0</td>\n",
       "      <td>1.0</td>\n",
       "      <td>finished</td>\n",
       "      <td>Fe2</td>\n",
       "      <td>murn</td>\n",
       "      <td>/murn</td>\n",
       "      <td>None</td>\n",
       "      <td>/Users/jan/pyiron/projects/2019/2019-09-09-pysqa-remote/</td>\n",
       "      <td>2019-09-11 10:37:01.919129</td>\n",
       "      <td>None</td>\n",
       "      <td>None</td>\n",
       "      <td>pyiron@MacBook-Pro.local#5#0</td>\n",
       "      <td>Murnaghan</td>\n",
       "      <td>0.3.0</td>\n",
       "      <td>None</td>\n",
       "      <td>None</td>\n",
       "      <td>pyiron</td>\n",
       "    </tr>\n",
       "    <tr>\n",
       "      <td>1</td>\n",
       "      <td>2.0</td>\n",
       "      <td>finished</td>\n",
       "      <td>None</td>\n",
       "      <td>strain_0_9</td>\n",
       "      <td>/strain_0_9</td>\n",
       "      <td>None</td>\n",
       "      <td>/Users/jan/pyiron/projects/2019/2019-09-09-pysqa-remote/murn_hdf5/</td>\n",
       "      <td>2019-09-11 10:38:07.637614</td>\n",
       "      <td>2019-09-11 10:38:07.637614</td>\n",
       "      <td>0</td>\n",
       "      <td>None</td>\n",
       "      <td>Lammps</td>\n",
       "      <td>2019.06.05_default</td>\n",
       "      <td>None</td>\n",
       "      <td>None</td>\n",
       "      <td>None</td>\n",
       "    </tr>\n",
       "    <tr>\n",
       "      <td>2</td>\n",
       "      <td>3.0</td>\n",
       "      <td>finished</td>\n",
       "      <td>None</td>\n",
       "      <td>strain_0_95</td>\n",
       "      <td>/strain_0_95</td>\n",
       "      <td>None</td>\n",
       "      <td>/Users/jan/pyiron/projects/2019/2019-09-09-pysqa-remote/murn_hdf5/</td>\n",
       "      <td>2019-09-11 10:38:07.890129</td>\n",
       "      <td>2019-09-11 10:38:07.890129</td>\n",
       "      <td>0</td>\n",
       "      <td>None</td>\n",
       "      <td>Lammps</td>\n",
       "      <td>2019.06.05_default</td>\n",
       "      <td>None</td>\n",
       "      <td>None</td>\n",
       "      <td>None</td>\n",
       "    </tr>\n",
       "    <tr>\n",
       "      <td>3</td>\n",
       "      <td>4.0</td>\n",
       "      <td>finished</td>\n",
       "      <td>None</td>\n",
       "      <td>strain_1_0</td>\n",
       "      <td>/strain_1_0</td>\n",
       "      <td>None</td>\n",
       "      <td>/Users/jan/pyiron/projects/2019/2019-09-09-pysqa-remote/murn_hdf5/</td>\n",
       "      <td>2019-09-11 10:38:08.305488</td>\n",
       "      <td>2019-09-11 10:38:08.305488</td>\n",
       "      <td>0</td>\n",
       "      <td>None</td>\n",
       "      <td>Lammps</td>\n",
       "      <td>2019.06.05_default</td>\n",
       "      <td>None</td>\n",
       "      <td>None</td>\n",
       "      <td>None</td>\n",
       "    </tr>\n",
       "    <tr>\n",
       "      <td>4</td>\n",
       "      <td>5.0</td>\n",
       "      <td>finished</td>\n",
       "      <td>None</td>\n",
       "      <td>strain_1_05</td>\n",
       "      <td>/strain_1_05</td>\n",
       "      <td>None</td>\n",
       "      <td>/Users/jan/pyiron/projects/2019/2019-09-09-pysqa-remote/murn_hdf5/</td>\n",
       "      <td>2019-09-11 10:38:07.385101</td>\n",
       "      <td>2019-09-11 10:38:07.385101</td>\n",
       "      <td>0</td>\n",
       "      <td>None</td>\n",
       "      <td>Lammps</td>\n",
       "      <td>2019.06.05_default</td>\n",
       "      <td>None</td>\n",
       "      <td>None</td>\n",
       "      <td>None</td>\n",
       "    </tr>\n",
       "    <tr>\n",
       "      <td>5</td>\n",
       "      <td>6.0</td>\n",
       "      <td>finished</td>\n",
       "      <td>None</td>\n",
       "      <td>strain_1_1</td>\n",
       "      <td>/strain_1_1</td>\n",
       "      <td>None</td>\n",
       "      <td>/Users/jan/pyiron/projects/2019/2019-09-09-pysqa-remote/murn_hdf5/</td>\n",
       "      <td>2019-09-11 10:38:08.084543</td>\n",
       "      <td>2019-09-11 10:38:08.084543</td>\n",
       "      <td>0</td>\n",
       "      <td>None</td>\n",
       "      <td>Lammps</td>\n",
       "      <td>2019.06.05_default</td>\n",
       "      <td>None</td>\n",
       "      <td>None</td>\n",
       "      <td>None</td>\n",
       "    </tr>\n",
       "  </tbody>\n",
       "</table>\n",
       "</div>"
      ],
      "text/plain": [
       "    id    status chemicalformula          job        subjob projectpath  \\\n",
       "0  1.0  finished             Fe2         murn         /murn        None   \n",
       "1  2.0  finished            None   strain_0_9   /strain_0_9        None   \n",
       "2  3.0  finished            None  strain_0_95  /strain_0_95        None   \n",
       "3  4.0  finished            None   strain_1_0   /strain_1_0        None   \n",
       "4  5.0  finished            None  strain_1_05  /strain_1_05        None   \n",
       "5  6.0  finished            None   strain_1_1   /strain_1_1        None   \n",
       "\n",
       "                                                              project  \\\n",
       "0            /Users/jan/pyiron/projects/2019/2019-09-09-pysqa-remote/   \n",
       "1  /Users/jan/pyiron/projects/2019/2019-09-09-pysqa-remote/murn_hdf5/   \n",
       "2  /Users/jan/pyiron/projects/2019/2019-09-09-pysqa-remote/murn_hdf5/   \n",
       "3  /Users/jan/pyiron/projects/2019/2019-09-09-pysqa-remote/murn_hdf5/   \n",
       "4  /Users/jan/pyiron/projects/2019/2019-09-09-pysqa-remote/murn_hdf5/   \n",
       "5  /Users/jan/pyiron/projects/2019/2019-09-09-pysqa-remote/murn_hdf5/   \n",
       "\n",
       "                   timestart                    timestop totalcputime  \\\n",
       "0 2019-09-11 10:37:01.919129                        None         None   \n",
       "1 2019-09-11 10:38:07.637614  2019-09-11 10:38:07.637614            0   \n",
       "2 2019-09-11 10:38:07.890129  2019-09-11 10:38:07.890129            0   \n",
       "3 2019-09-11 10:38:08.305488  2019-09-11 10:38:08.305488            0   \n",
       "4 2019-09-11 10:38:07.385101  2019-09-11 10:38:07.385101            0   \n",
       "5 2019-09-11 10:38:08.084543  2019-09-11 10:38:08.084543            0   \n",
       "\n",
       "                       computer   hamilton          hamversion parentid  \\\n",
       "0  pyiron@MacBook-Pro.local#5#0  Murnaghan               0.3.0     None   \n",
       "1                          None     Lammps  2019.06.05_default     None   \n",
       "2                          None     Lammps  2019.06.05_default     None   \n",
       "3                          None     Lammps  2019.06.05_default     None   \n",
       "4                          None     Lammps  2019.06.05_default     None   \n",
       "5                          None     Lammps  2019.06.05_default     None   \n",
       "\n",
       "  masterid username  \n",
       "0     None   pyiron  \n",
       "1     None     None  \n",
       "2     None     None  \n",
       "3     None     None  \n",
       "4     None     None  \n",
       "5     None     None  "
      ]
     },
     "execution_count": 21,
     "metadata": {},
     "output_type": "execute_result"
    }
   ],
   "source": [
    "pr.job_table()"
   ]
  },
  {
   "cell_type": "code",
   "execution_count": null,
   "metadata": {},
   "outputs": [],
   "source": []
  }
 ],
 "metadata": {
  "kernelspec": {
   "display_name": "Python 3",
   "language": "python",
   "name": "python3"
  },
  "language_info": {
   "codemirror_mode": {
    "name": "ipython",
    "version": 3
   },
   "file_extension": ".py",
   "mimetype": "text/x-python",
   "name": "python",
   "nbconvert_exporter": "python",
   "pygments_lexer": "ipython3",
   "version": "3.7.3"
  },
  "toc": {
   "base_numbering": 1,
   "nav_menu": {},
   "number_sections": true,
   "sideBar": true,
   "skip_h1_title": false,
   "title_cell": "Table of Contents",
   "title_sidebar": "Contents",
   "toc_cell": false,
   "toc_position": {},
   "toc_section_display": true,
   "toc_window_display": false
  }
 },
 "nbformat": 4,
 "nbformat_minor": 2
}
