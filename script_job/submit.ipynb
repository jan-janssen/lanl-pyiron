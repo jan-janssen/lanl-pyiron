{
 "cells": [
  {
   "cell_type": "code",
   "execution_count": 1,
   "metadata": {},
   "outputs": [],
   "source": [
    "from pyiron import Project"
   ]
  },
  {
   "cell_type": "code",
   "execution_count": 2,
   "metadata": {},
   "outputs": [],
   "source": [
    "pr = Project(\"script\")"
   ]
  },
  {
   "cell_type": "code",
   "execution_count": 3,
   "metadata": {},
   "outputs": [],
   "source": [
    "job = pr.create_job(pr.job_type.ScriptJob, 'script_job')"
   ]
  },
  {
   "cell_type": "code",
   "execution_count": 4,
   "metadata": {},
   "outputs": [],
   "source": [
    "job.script_path = 'lammps.ipynb'"
   ]
  },
  {
   "cell_type": "code",
   "execution_count": 5,
   "metadata": {},
   "outputs": [
    {
     "name": "stdout",
     "output_type": "stream",
     "text": [
      "The job script_job was saved and received the ID: 21\n"
     ]
    }
   ],
   "source": [
    "job.run()"
   ]
  },
  {
   "cell_type": "code",
   "execution_count": 6,
   "metadata": {},
   "outputs": [
    {
     "data": {
      "text/html": [
       "<div>\n",
       "<style scoped>\n",
       "    .dataframe tbody tr th:only-of-type {\n",
       "        vertical-align: middle;\n",
       "    }\n",
       "\n",
       "    .dataframe tbody tr th {\n",
       "        vertical-align: top;\n",
       "    }\n",
       "\n",
       "    .dataframe thead th {\n",
       "        text-align: right;\n",
       "    }\n",
       "</style>\n",
       "<table border=\"1\" class=\"dataframe\">\n",
       "  <thead>\n",
       "    <tr style=\"text-align: right;\">\n",
       "      <th></th>\n",
       "      <th>id</th>\n",
       "      <th>status</th>\n",
       "      <th>chemicalformula</th>\n",
       "      <th>job</th>\n",
       "      <th>subjob</th>\n",
       "      <th>projectpath</th>\n",
       "      <th>project</th>\n",
       "      <th>timestart</th>\n",
       "      <th>timestop</th>\n",
       "      <th>totalcputime</th>\n",
       "      <th>computer</th>\n",
       "      <th>hamilton</th>\n",
       "      <th>hamversion</th>\n",
       "      <th>parentid</th>\n",
       "      <th>masterid</th>\n",
       "    </tr>\n",
       "  </thead>\n",
       "  <tbody>\n",
       "    <tr>\n",
       "      <th>0</th>\n",
       "      <td>21</td>\n",
       "      <td>finished</td>\n",
       "      <td>None</td>\n",
       "      <td>script_job</td>\n",
       "      <td>/script_job</td>\n",
       "      <td>/home/jovyan/</td>\n",
       "      <td>script_job/script/</td>\n",
       "      <td>2020-07-31 14:11:53.043297</td>\n",
       "      <td>2020-07-31 14:11:58.756370</td>\n",
       "      <td>5.0</td>\n",
       "      <td>pyiron@jupyter-jan-2djanssen-2dlanl-2dpyiron-2dy5vzt4rn#1</td>\n",
       "      <td>Script</td>\n",
       "      <td>0.1</td>\n",
       "      <td>None</td>\n",
       "      <td>None</td>\n",
       "    </tr>\n",
       "    <tr>\n",
       "      <th>1</th>\n",
       "      <td>22</td>\n",
       "      <td>finished</td>\n",
       "      <td>Al</td>\n",
       "      <td>lmp</td>\n",
       "      <td>/lmp</td>\n",
       "      <td>/home/jovyan/</td>\n",
       "      <td>script_job/script/script_job_hdf5/script_job/test/</td>\n",
       "      <td>2020-07-31 14:11:56.614824</td>\n",
       "      <td>2020-07-31 14:11:57.244182</td>\n",
       "      <td>0.0</td>\n",
       "      <td>pyiron@jupyter-jan-2djanssen-2dlanl-2dpyiron-2dy5vzt4rn#1</td>\n",
       "      <td>Lammps</td>\n",
       "      <td>0.1</td>\n",
       "      <td>None</td>\n",
       "      <td>None</td>\n",
       "    </tr>\n",
       "  </tbody>\n",
       "</table>\n",
       "</div>"
      ],
      "text/plain": [
       "   id    status chemicalformula         job       subjob    projectpath  \\\n",
       "0  21  finished            None  script_job  /script_job  /home/jovyan/   \n",
       "1  22  finished              Al         lmp         /lmp  /home/jovyan/   \n",
       "\n",
       "                                              project  \\\n",
       "0                                  script_job/script/   \n",
       "1  script_job/script/script_job_hdf5/script_job/test/   \n",
       "\n",
       "                   timestart                   timestop  totalcputime  \\\n",
       "0 2020-07-31 14:11:53.043297 2020-07-31 14:11:58.756370           5.0   \n",
       "1 2020-07-31 14:11:56.614824 2020-07-31 14:11:57.244182           0.0   \n",
       "\n",
       "                                                    computer hamilton  \\\n",
       "0  pyiron@jupyter-jan-2djanssen-2dlanl-2dpyiron-2dy5vzt4rn#1   Script   \n",
       "1  pyiron@jupyter-jan-2djanssen-2dlanl-2dpyiron-2dy5vzt4rn#1   Lammps   \n",
       "\n",
       "  hamversion parentid masterid  \n",
       "0        0.1     None     None  \n",
       "1        0.1     None     None  "
      ]
     },
     "execution_count": 6,
     "metadata": {},
     "output_type": "execute_result"
    }
   ],
   "source": [
    "pr.job_table()"
   ]
  },
  {
   "cell_type": "code",
   "execution_count": null,
   "metadata": {},
   "outputs": [],
   "source": []
  }
 ],
 "metadata": {
  "kernelspec": {
   "display_name": "Python 3",
   "language": "python",
   "name": "python3"
  },
  "language_info": {
   "codemirror_mode": {
    "name": "ipython",
    "version": 3
   },
   "file_extension": ".py",
   "mimetype": "text/x-python",
   "name": "python",
   "nbconvert_exporter": "python",
   "pygments_lexer": "ipython3",
   "version": "3.7.8"
  }
 },
 "nbformat": 4,
 "nbformat_minor": 4
}
