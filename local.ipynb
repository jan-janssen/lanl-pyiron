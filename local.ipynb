{
 "cells": [
  {
   "cell_type": "code",
   "execution_count": 1,
   "metadata": {
    "ExecuteTime": {
     "end_time": "2018-11-15T08:13:12.815105Z",
     "start_time": "2018-11-15T08:13:12.810937Z"
    }
   },
   "outputs": [],
   "source": [
    "import os"
   ]
  },
  {
   "cell_type": "code",
   "execution_count": 2,
   "metadata": {
    "ExecuteTime": {
     "end_time": "2018-11-15T08:13:14.838433Z",
     "start_time": "2018-11-15T08:13:12.883566Z"
    }
   },
   "outputs": [],
   "source": [
    "from pyiron import Project"
   ]
  },
  {
   "cell_type": "code",
   "execution_count": 3,
   "metadata": {
    "ExecuteTime": {
     "end_time": "2018-11-15T08:13:14.872765Z",
     "start_time": "2018-11-15T08:13:14.842040Z"
    }
   },
   "outputs": [],
   "source": [
    "pr = Project('test')"
   ]
  },
  {
   "cell_type": "code",
   "execution_count": 4,
   "metadata": {
    "ExecuteTime": {
     "end_time": "2018-11-15T08:13:14.887230Z",
     "start_time": "2018-11-15T08:13:14.876071Z"
    }
   },
   "outputs": [],
   "source": [
    "pr.switch_to_local_database()"
   ]
  },
  {
   "cell_type": "code",
   "execution_count": 5,
   "metadata": {
    "ExecuteTime": {
     "end_time": "2018-11-15T08:13:14.898060Z",
     "start_time": "2018-11-15T08:13:14.891056Z"
    }
   },
   "outputs": [],
   "source": [
    "pr.remove_jobs()"
   ]
  },
  {
   "cell_type": "code",
   "execution_count": 6,
   "metadata": {
    "ExecuteTime": {
     "end_time": "2018-11-15T08:13:14.950277Z",
     "start_time": "2018-11-15T08:13:14.901577Z"
    }
   },
   "outputs": [],
   "source": [
    "basis = pr.create_structure('Fe', 'bcc', 2.78)"
   ]
  },
  {
   "cell_type": "code",
   "execution_count": 7,
   "metadata": {
    "ExecuteTime": {
     "end_time": "2018-11-15T08:13:14.963926Z",
     "start_time": "2018-11-15T08:13:14.953144Z"
    }
   },
   "outputs": [],
   "source": [
    "ham = pr.create_job(pr.job_type.Lammps, 'lmp')"
   ]
  },
  {
   "cell_type": "code",
   "execution_count": 8,
   "metadata": {
    "ExecuteTime": {
     "end_time": "2018-11-15T08:13:14.971938Z",
     "start_time": "2018-11-15T08:13:14.968621Z"
    }
   },
   "outputs": [],
   "source": [
    "ham.structure = basis"
   ]
  },
  {
   "cell_type": "code",
   "execution_count": 9,
   "metadata": {
    "ExecuteTime": {
     "end_time": "2018-11-15T08:13:14.988896Z",
     "start_time": "2018-11-15T08:13:14.975925Z"
    }
   },
   "outputs": [],
   "source": [
    "ham.potential = 'Fe_C_Becquart_eam'"
   ]
  },
  {
   "cell_type": "code",
   "execution_count": 10,
   "metadata": {
    "ExecuteTime": {
     "end_time": "2018-11-15T08:13:15.445735Z",
     "start_time": "2018-11-15T08:13:14.991589Z"
    }
   },
   "outputs": [
    {
     "name": "stdout",
     "output_type": "stream",
     "text": [
      "The job lmp was saved and received the ID: 1\n"
     ]
    }
   ],
   "source": [
    "ham.run()"
   ]
  },
  {
   "cell_type": "code",
   "execution_count": 11,
   "metadata": {},
   "outputs": [
    {
     "data": {
      "text/html": [
       "<div>\n",
       "<style scoped>\n",
       "    .dataframe tbody tr th:only-of-type {\n",
       "        vertical-align: middle;\n",
       "    }\n",
       "\n",
       "    .dataframe tbody tr th {\n",
       "        vertical-align: top;\n",
       "    }\n",
       "\n",
       "    .dataframe thead th {\n",
       "        text-align: right;\n",
       "    }\n",
       "</style>\n",
       "<table border=\"1\" class=\"dataframe\">\n",
       "  <thead>\n",
       "    <tr style=\"text-align: right;\">\n",
       "      <th></th>\n",
       "      <th>id</th>\n",
       "      <th>status</th>\n",
       "      <th>chemicalformula</th>\n",
       "      <th>job</th>\n",
       "      <th>subjob</th>\n",
       "      <th>projectpath</th>\n",
       "      <th>project</th>\n",
       "      <th>timestart</th>\n",
       "      <th>timestop</th>\n",
       "      <th>totalcputime</th>\n",
       "      <th>computer</th>\n",
       "      <th>hamilton</th>\n",
       "      <th>hamversion</th>\n",
       "      <th>parentid</th>\n",
       "      <th>masterid</th>\n",
       "    </tr>\n",
       "  </thead>\n",
       "  <tbody>\n",
       "    <tr>\n",
       "      <th>0</th>\n",
       "      <td>1</td>\n",
       "      <td>finished</td>\n",
       "      <td>Fe2</td>\n",
       "      <td>lmp</td>\n",
       "      <td>/lmp</td>\n",
       "      <td>/Users/jan/pyiron/projects/</td>\n",
       "      <td>2020/2020-03-25-local-database/test/</td>\n",
       "      <td>2020-03-25 19:38:41.480949</td>\n",
       "      <td>2020-03-25 19:38:41.903022</td>\n",
       "      <td>0.0</td>\n",
       "      <td>pyiron@MacBook-Pro.local#1</td>\n",
       "      <td>Lammps</td>\n",
       "      <td>0.1</td>\n",
       "      <td>None</td>\n",
       "      <td>None</td>\n",
       "    </tr>\n",
       "  </tbody>\n",
       "</table>\n",
       "</div>"
      ],
      "text/plain": [
       "   id    status chemicalformula  job subjob                  projectpath  \\\n",
       "0   1  finished             Fe2  lmp   /lmp  /Users/jan/pyiron/projects/   \n",
       "\n",
       "                                project                  timestart  \\\n",
       "0  2020/2020-03-25-local-database/test/ 2020-03-25 19:38:41.480949   \n",
       "\n",
       "                    timestop  totalcputime                    computer  \\\n",
       "0 2020-03-25 19:38:41.903022           0.0  pyiron@MacBook-Pro.local#1   \n",
       "\n",
       "  hamilton hamversion parentid masterid  \n",
       "0   Lammps        0.1     None     None  "
      ]
     },
     "execution_count": 11,
     "metadata": {},
     "output_type": "execute_result"
    }
   ],
   "source": [
    "pr.job_table()"
   ]
  },
  {
   "cell_type": "code",
   "execution_count": 12,
   "metadata": {
    "ExecuteTime": {
     "end_time": "2018-11-15T08:13:15.455079Z",
     "start_time": "2018-11-15T08:13:15.448923Z"
    }
   },
   "outputs": [
    {
     "data": {
      "text/plain": [
       "'/Users/jan/pyiron/projects/2020/2020-03-25-local-database/test/'"
      ]
     },
     "execution_count": 12,
     "metadata": {},
     "output_type": "execute_result"
    }
   ],
   "source": [
    "pr.path"
   ]
  },
  {
   "cell_type": "code",
   "execution_count": 13,
   "metadata": {
    "ExecuteTime": {
     "end_time": "2018-11-15T08:13:15.550142Z",
     "start_time": "2018-11-15T08:13:15.465026Z"
    }
   },
   "outputs": [],
   "source": [
    "pr.remove_jobs()"
   ]
  },
  {
   "cell_type": "code",
   "execution_count": null,
   "metadata": {},
   "outputs": [],
   "source": []
  }
 ],
 "metadata": {
  "kernelspec": {
   "display_name": "Python 3",
   "language": "python",
   "name": "python3"
  },
  "language_info": {
   "codemirror_mode": {
    "name": "ipython",
    "version": 3
   },
   "file_extension": ".py",
   "mimetype": "text/x-python",
   "name": "python",
   "nbconvert_exporter": "python",
   "pygments_lexer": "ipython3",
   "version": "3.7.6"
  },
  "toc": {
   "base_numbering": 1,
   "nav_menu": {
    "height": "120px",
    "width": "252px"
   },
   "number_sections": true,
   "sideBar": true,
   "skip_h1_title": false,
   "title_cell": "Table of Contents",
   "title_sidebar": "Contents",
   "toc_cell": false,
   "toc_position": {},
   "toc_section_display": "block",
   "toc_window_display": false
  }
 },
 "nbformat": 4,
 "nbformat_minor": 2
}
